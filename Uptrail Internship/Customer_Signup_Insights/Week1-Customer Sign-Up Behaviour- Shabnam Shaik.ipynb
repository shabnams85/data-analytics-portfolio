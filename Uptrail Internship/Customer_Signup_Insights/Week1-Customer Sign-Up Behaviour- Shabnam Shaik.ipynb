{
 "cells": [
  {
   "cell_type": "markdown",
   "id": "019c37d6-dfd3-4de9-b957-72b2714c8331",
   "metadata": {},
   "source": [
    "# Project Title: Customer Sign-Up Behaviour & Data Quality Audit "
   ]
  },
  {
   "cell_type": "markdown",
   "id": "1f51b0a8-6e9b-4a35-8b6c-9ef199f569f8",
   "metadata": {},
   "source": [
    "### Installing Libraries"
   ]
  },
  {
   "cell_type": "code",
   "execution_count": 1,
   "id": "c7d7d5f4-2f6e-42a5-94d0-73009edb0fd2",
   "metadata": {},
   "outputs": [],
   "source": [
    "import numpy as np\n",
    "import pandas as pd\n",
    "import matplotlib.pyplot as plt\n",
    "import seaborn as sns\n",
    "from word2number import w2n"
   ]
  },
  {
   "cell_type": "markdown",
   "id": "0f40247b-b025-4665-9373-3e21d84fdd37",
   "metadata": {},
   "source": [
    "## Load & Clean the Data "
   ]
  },
  {
   "cell_type": "code",
   "execution_count": 2,
   "id": "118268fa-b4c4-424e-878d-24a997857c78",
   "metadata": {},
   "outputs": [],
   "source": [
    "# Read the csv file\n",
    "df = pd.read_csv('customer_signups.csv', encoding='unicode_escape')\n",
    "df_original = df"
   ]
  },
  {
   "cell_type": "markdown",
   "id": "74cd1e88-cac6-4a8c-aab6-3d60f36a5d89",
   "metadata": {},
   "source": [
    "#### a. Identify missing values, data types, and column structure"
   ]
  },
  {
   "cell_type": "code",
   "execution_count": 3,
   "id": "56b7eeff-27e7-4f74-a3d8-3d3c6d98b369",
   "metadata": {},
   "outputs": [
    {
     "data": {
      "text/plain": [
       "customer_id          2\n",
       "name                 9\n",
       "email               34\n",
       "signup_date          2\n",
       "source               9\n",
       "region              30\n",
       "plan_selected        8\n",
       "marketing_opt_in    10\n",
       "age                 12\n",
       "gender               8\n",
       "dtype: int64"
      ]
     },
     "execution_count": 3,
     "metadata": {},
     "output_type": "execute_result"
    }
   ],
   "source": [
    "df.isnull().sum()"
   ]
  },
  {
   "cell_type": "code",
   "execution_count": 4,
   "id": "1327ff0d-b386-4747-9df5-abbda1e56eaa",
   "metadata": {},
   "outputs": [
    {
     "data": {
      "text/plain": [
       "customer_id          0.67\n",
       "name                 3.00\n",
       "email               11.33\n",
       "signup_date          0.67\n",
       "source               3.00\n",
       "region              10.00\n",
       "plan_selected        2.67\n",
       "marketing_opt_in     3.33\n",
       "age                  4.00\n",
       "gender               2.67\n",
       "dtype: float64"
      ]
     },
     "execution_count": 4,
     "metadata": {},
     "output_type": "execute_result"
    }
   ],
   "source": [
    "Missing_percent = ((df.isnull().sum()/len(df))*100).round(2)\n",
    "Missing_percent"
   ]
  },
  {
   "cell_type": "code",
   "execution_count": 5,
   "id": "c5c4dea0-f605-4bd0-9965-db39eacfa44f",
   "metadata": {},
   "outputs": [
    {
     "name": "stdout",
     "output_type": "stream",
     "text": [
      "<class 'pandas.core.frame.DataFrame'>\n",
      "RangeIndex: 300 entries, 0 to 299\n",
      "Data columns (total 10 columns):\n",
      " #   Column            Non-Null Count  Dtype \n",
      "---  ------            --------------  ----- \n",
      " 0   customer_id       298 non-null    object\n",
      " 1   name              291 non-null    object\n",
      " 2   email             266 non-null    object\n",
      " 3   signup_date       298 non-null    object\n",
      " 4   source            291 non-null    object\n",
      " 5   region            270 non-null    object\n",
      " 6   plan_selected     292 non-null    object\n",
      " 7   marketing_opt_in  290 non-null    object\n",
      " 8   age               288 non-null    object\n",
      " 9   gender            292 non-null    object\n",
      "dtypes: object(10)\n",
      "memory usage: 23.6+ KB\n"
     ]
    }
   ],
   "source": [
    "df.info()"
   ]
  },
  {
   "cell_type": "code",
   "execution_count": 6,
   "id": "2dd1cbfe-0956-4ef7-ade2-58f306ee1660",
   "metadata": {},
   "outputs": [
    {
     "data": {
      "image/png": "[encoded data removed]",
      "text/plain": [
       "<Figure size 1000x400 with 1 Axes>"
      ]
     },
     "metadata": {},
     "output_type": "display_data"
    }
   ],
   "source": [
    "Missing_percent.sort_values(ascending=False).plot(kind='bar', figsize=(10,4))\n",
    "plt.title('Percentage of Missing Values by Column')\n",
    "plt.ylabel('% Missing')\n",
    "plt.tight_layout()\n",
    "plt.show()"
   ]
  },
  {
   "cell_type": "code",
   "execution_count": 7,
   "id": "97c99327-e0f6-4a92-a01d-f5287b5689ee",
   "metadata": {
    "scrolled": true
   },
   "outputs": [
    {
     "data": {
      "text/plain": [
       "Index(['customer_id', 'name', 'email', 'signup_date', 'source', 'region',\n",
       "       'plan_selected', 'marketing_opt_in', 'age', 'gender'],\n",
       "      dtype='object')"
      ]
     },
     "execution_count": 7,
     "metadata": {},
     "output_type": "execute_result"
    }
   ],
   "source": [
    "df.columns"
   ]
  },
  {
   "cell_type": "markdown",
   "id": "26c57e2d-270c-4f30-8669-75d7b75eb6db",
   "metadata": {},
   "source": [
    "#### b. Convert signup_date to datetime "
   ]
  },
  {
   "cell_type": "code",
   "execution_count": 8,
   "id": "fb9ad5c6-98d2-4ba3-9e21-383d18230fce",
   "metadata": {},
   "outputs": [
    {
     "name": "stderr",
     "output_type": "stream",
     "text": [
      "C:\\Users\\shabn\\AppData\\Local\\Temp\\ipykernel_49376\\518335588.py:3: UserWarning: Could not infer format, so each element will be parsed individually, falling back to `dateutil`. To ensure parsing is consistent and as-expected, please specify a format.\n",
      "  df['signup_date'] = pd.to_datetime(df['signup_date'],errors='coerce')\n"
     ]
    },
    {
     "data": {
      "text/plain": [
       "0            NaT\n",
       "1     2024-02-01\n",
       "2     2024-03-01\n",
       "3     2024-04-01\n",
       "4     2024-05-01\n",
       "         ...    \n",
       "295   2024-10-22\n",
       "296   2024-10-23\n",
       "297   2024-10-24\n",
       "298   2024-10-25\n",
       "299   2024-10-26\n",
       "Name: signup_date, Length: 300, dtype: datetime64[ns]"
      ]
     },
     "execution_count": 8,
     "metadata": {},
     "output_type": "execute_result"
    }
   ],
   "source": [
    "df['signup_date'] = df['signup_date'].astype(str)\n",
    "df['signup_date']  = df['signup_date'].str.replace(r'(\\d+)(st|nd|rd|th)',r'\\1',regex=True)\n",
    "df['signup_date'] = pd.to_datetime(df['signup_date'],errors='coerce')\n",
    "#df['signup_date'] = df['signup_date'].dt.strftime('%d-%m-%Y')\n",
    "df['signup_date'] "
   ]
  },
  {
   "cell_type": "markdown",
   "id": "e9f8a89f-53f1-4624-b308-ca2a5c30f2cf",
   "metadata": {},
   "source": [
    "#### c. Standardise inconsistent text values (plan_selected, gender, etc.)"
   ]
  },
  {
   "cell_type": "code",
   "execution_count": 9,
   "id": "b93b53d9-0711-4510-933d-6c86855740e3",
   "metadata": {},
   "outputs": [
    {
     "data": {
      "text/plain": [
       "array(['Basic', 'Premium', 'Pro', 'Unknownplan', nan], dtype=object)"
      ]
     },
     "execution_count": 9,
     "metadata": {},
     "output_type": "execute_result"
    }
   ],
   "source": [
    "df['plan_selected'] = df['plan_selected'].str.capitalize().replace({'Prem':'Premium'})\n",
    "df['plan_selected'].unique()"
   ]
  },
  {
   "cell_type": "code",
   "execution_count": 10,
   "id": "afe60e4d-d653-4065-9130-114aff0a9a9e",
   "metadata": {},
   "outputs": [
    {
     "data": {
      "text/plain": [
       "array(['Female', 'Male', 'Other', nan], dtype=object)"
      ]
     },
     "execution_count": 10,
     "metadata": {},
     "output_type": "execute_result"
    }
   ],
   "source": [
    "df['gender'] = df['gender'].str.capitalize()\n",
    "df['gender'] = df['gender'].replace({'Non-binary' : 'Other'})\n",
    "df['gender'] = df['gender'].replace({'123' : np.nan})\n",
    "df['gender'].unique()"
   ]
  },
  {
   "cell_type": "code",
   "execution_count": 11,
   "id": "ebf5db09-d67a-40fe-921d-02fae6ffac62",
   "metadata": {},
   "outputs": [
    {
     "data": {
      "text/plain": [
       "array(['34', '29', '40', '25', '60', '47', '53', '21', nan, 'thirty',\n",
       "       '206'], dtype=object)"
      ]
     },
     "execution_count": 11,
     "metadata": {},
     "output_type": "execute_result"
    }
   ],
   "source": [
    "# Replacing unknown age to null values\n",
    "df['age'] = df['age'].replace({'unknown' : np.nan})             \n",
    "df['age'].unique()"
   ]
  },
  {
   "cell_type": "code",
   "execution_count": 12,
   "id": "8b5c5a76-d49b-4821-8ff9-6511c17398ee",
   "metadata": {},
   "outputs": [
    {
     "data": {
      "text/plain": [
       "array(['No', 'Yes', nan], dtype=object)"
      ]
     },
     "execution_count": 12,
     "metadata": {},
     "output_type": "execute_result"
    }
   ],
   "source": [
    "#Replacing Nil values to No for 'marketing_opt_in' \n",
    "df['marketing_opt_in'] = df['marketing_opt_in'].replace({'Nil': 'No'})\n",
    "df['marketing_opt_in'].unique()"
   ]
  },
  {
   "cell_type": "markdown",
   "id": "f346d581-2eb9-425b-83fc-1b6a7e68aa42",
   "metadata": {},
   "source": [
    "#### d. Remove duplicate rows based on customer_id"
   ]
  },
  {
   "cell_type": "code",
   "execution_count": 13,
   "id": "a660f10f-e0bf-404a-8818-f70b8129331d",
   "metadata": {},
   "outputs": [
    {
     "name": "stdout",
     "output_type": "stream",
     "text": [
      "No. of rows and columns after deleting duplicate customers (299, 10)\n",
      "['customer_id', 'name', 'email', 'signup_date', 'source', 'region', 'plan_selected', 'marketing_opt_in', 'age', 'gender']\n"
     ]
    }
   ],
   "source": [
    "df = df.drop_duplicates(subset='customer_id', keep='first')\n",
    "print(\"No. of rows and columns after deleting duplicate customers\" , df.shape)\n",
    "print(df.columns.tolist())"
   ]
  },
  {
   "cell_type": "markdown",
   "id": "e2fbd772-d6ce-4707-bf1b-9270fbd96507",
   "metadata": {},
   "source": [
    "#### e. Handle missing values (e.g., region, email, age) "
   ]
  },
  {
   "cell_type": "code",
   "execution_count": 14,
   "id": "1fa1b76e-bc6f-4d27-aa38-cadd80f11c5b",
   "metadata": {
    "scrolled": true
   },
   "outputs": [],
   "source": [
    "# Dropping the rows without customer ID\n",
    "df=df[df['customer_id'].notna()]\n",
    "\n",
    "# Replacing the blank values of email \n",
    "df['email'] =df['email'].fillna('unknown@example.com')\n",
    "\n",
    "# Replacing null value of date with median\n",
    "median_date = df['signup_date'].median()\n",
    "df['signup_date'] = df['signup_date'].fillna(median_date)\n",
    "\n",
    "# Replacing ?? and null values of Source with 'Unknown'\n",
    "df['source'] = df['source'].replace('??','Unknown')\n",
    "df['source'] = df['source'].fillna('Unknown')\n",
    "\n",
    "# Replacing null value of region with 'Unknown'\n",
    "df['region'] =df['region'].fillna('Unknown')\n",
    "\n",
    "# Replacing null values of plan_selected with 'Unknownplan'\n",
    "df['plan_selected'] = df['plan_selected'].fillna('Unknownplan')\n",
    "\n",
    "#Replacing Null values of 'marketing_opt_in' with 'Unknown'\n",
    "df['marketing_opt_in'] = df['marketing_opt_in'].fillna('Unknown')\n",
    "\n",
    "# Replacing string format of age to number format\n",
    "              \n",
    "def clean_age(x):\n",
    "    if pd.isna(x):\n",
    "        return None\n",
    "    x = str(x).strip().lower()\n",
    "    if x.isdigit():\n",
    "        return int(x)\n",
    "    try:\n",
    "        return w2n.word_to_num(x)\n",
    "    except ValueError:\n",
    "        return None\n",
    "\n",
    "# Apply cleaning\n",
    "df['age'] = df['age'].apply(clean_age)\n",
    "\n",
    "# keep missing values as <NA> but still use integer dtype\n",
    "df.loc[df['age'] > 100, 'age'] = pd.NA\n",
    "df['age'] = df['age'].astype('Int64')\n",
    "\n",
    "# Replacing null values in gender with 'Unknown'\n",
    "df['gender'] = df['gender'].fillna('Unspecified')"
   ]
  },
  {
   "cell_type": "code",
   "execution_count": 15,
   "id": "19adbacf-8ba4-439a-a562-5cbf2fcaf90f",
   "metadata": {},
   "outputs": [
    {
     "data": {
      "text/plain": [
       "<IntegerArray>\n",
       "[34, 29, 40, 25, 60, 47, 53, 21, <NA>, 30]\n",
       "Length: 10, dtype: Int64"
      ]
     },
     "execution_count": 15,
     "metadata": {},
     "output_type": "execute_result"
    }
   ],
   "source": [
    "df['age'].unique()"
   ]
  },
  {
   "cell_type": "markdown",
   "id": "67872469-d25f-49bb-97ec-1d205efdb146",
   "metadata": {},
   "source": [
    "### 2. Data Quality Summary"
   ]
  },
  {
   "cell_type": "markdown",
   "id": "c3aedc9c-5681-4781-bb52-b878127d9642",
   "metadata": {},
   "source": [
    "#### a. Count of missing values per column "
   ]
  },
  {
   "cell_type": "code",
   "execution_count": 16,
   "id": "00446a02-0c2c-4ed2-9066-8bf3d70f0003",
   "metadata": {},
   "outputs": [
    {
     "data": {
      "text/plain": [
       "customer_id          0\n",
       "name                 9\n",
       "email                0\n",
       "signup_date          0\n",
       "source               0\n",
       "region               0\n",
       "plan_selected        0\n",
       "marketing_opt_in     0\n",
       "age                 19\n",
       "gender               0\n",
       "dtype: int64"
      ]
     },
     "execution_count": 16,
     "metadata": {},
     "output_type": "execute_result"
    }
   ],
   "source": [
    "df.isnull().sum()"
   ]
  },
  {
   "cell_type": "markdown",
   "id": "474ce05a-33db-41fb-bfe6-8a3eba2a087e",
   "metadata": {},
   "source": [
    "#### b. % of missing values "
   ]
  },
  {
   "cell_type": "code",
   "execution_count": 17,
   "id": "7fd701fc-a25c-42ea-a8bf-d2aabf92b671",
   "metadata": {},
   "outputs": [
    {
     "data": {
      "text/plain": [
       "customer_id         0.00\n",
       "name                3.02\n",
       "email               0.00\n",
       "signup_date         0.00\n",
       "source              0.00\n",
       "region              0.00\n",
       "plan_selected       0.00\n",
       "marketing_opt_in    0.00\n",
       "age                 6.38\n",
       "gender              0.00\n",
       "dtype: float64"
      ]
     },
     "execution_count": 17,
     "metadata": {},
     "output_type": "execute_result"
    }
   ],
   "source": [
    "Missing_percent_Clean = ((df.isnull().sum()/len(df))*100).round(2)\n",
    "Missing_percent_Clean"
   ]
  },
  {
   "cell_type": "markdown",
   "id": "1f7e8b2e-c786-42ab-b809-3cc9da26edfa",
   "metadata": {},
   "source": [
    "#### c. Number of duplicates removed "
   ]
  },
  {
   "cell_type": "code",
   "execution_count": 18,
   "id": "bf607e99-e504-48b4-bf71-798ab7227ba8",
   "metadata": {},
   "outputs": [
    {
     "data": {
      "text/plain": [
       "298"
      ]
     },
     "execution_count": 18,
     "metadata": {},
     "output_type": "execute_result"
    }
   ],
   "source": [
    "df = df.drop_duplicates(subset='customer_id', keep='first')\n",
    "len(df)"
   ]
  },
  {
   "cell_type": "code",
   "execution_count": 19,
   "id": "34b3af02-a6f0-4512-af04-280ccc973cc0",
   "metadata": {
    "scrolled": true
   },
   "outputs": [
    {
     "data": {
      "text/plain": [
       "source\n",
       "YouTube      58\n",
       "Google       50\n",
       "Referral     49\n",
       "Instagram    48\n",
       "Facebook     40\n",
       "LinkedIn     38\n",
       "Unknown      15\n",
       "Name: count, dtype: int64"
      ]
     },
     "execution_count": 19,
     "metadata": {},
     "output_type": "execute_result"
    }
   ],
   "source": [
    "df['source'].value_counts()"
   ]
  },
  {
   "cell_type": "code",
   "execution_count": 20,
   "id": "80e7b76c-5ea7-42ec-8338-d62d6142345e",
   "metadata": {},
   "outputs": [
    {
     "name": "stdout",
     "output_type": "stream",
     "text": [
      "<class 'pandas.core.frame.DataFrame'>\n",
      "Index: 298 entries, 0 to 299\n",
      "Data columns (total 10 columns):\n",
      " #   Column            Non-Null Count  Dtype         \n",
      "---  ------            --------------  -----         \n",
      " 0   customer_id       298 non-null    object        \n",
      " 1   name              289 non-null    object        \n",
      " 2   email             298 non-null    object        \n",
      " 3   signup_date       298 non-null    datetime64[ns]\n",
      " 4   source            298 non-null    object        \n",
      " 5   region            298 non-null    object        \n",
      " 6   plan_selected     298 non-null    object        \n",
      " 7   marketing_opt_in  298 non-null    object        \n",
      " 8   age               279 non-null    Int64         \n",
      " 9   gender            298 non-null    object        \n",
      "dtypes: Int64(1), datetime64[ns](1), object(8)\n",
      "memory usage: 25.9+ KB\n"
     ]
    }
   ],
   "source": [
    "df.info()"
   ]
  },
  {
   "cell_type": "markdown",
   "id": "e1564fd2-a6d5-428b-95d7-0298a107c4c7",
   "metadata": {},
   "source": [
    "### Summary Outputs (Using Pandas Aggregation)"
   ]
  },
  {
   "cell_type": "code",
   "execution_count": 21,
   "id": "c0d2e594-b3e1-4ff8-b8b9-30e6af165988",
   "metadata": {
    "scrolled": true
   },
   "outputs": [
    {
     "data": {
      "image/png": "[encoded data removed]",
      "text/plain": [
       "<Figure size 1200x400 with 1 Axes>"
      ]
     },
     "metadata": {},
     "output_type": "display_data"
    }
   ],
   "source": [
    "# Sign-ups per week (grouped by signup_date) \n",
    "df['signup_week'] = df['signup_date'].dt.to_period('W').apply(lambda r: r.start_time)\n",
    "\n",
    "# Group by week and count signups\n",
    "weekly_signups = df.groupby('signup_week').size().reset_index(name='signups')\n",
    "\n",
    "# Sort by date\n",
    "weekly_signups = weekly_signups.sort_values('signup_week')\n",
    "\n",
    "plt.figure(figsize=(12, 4)) \n",
    "sns.lineplot(data=weekly_signups, x='signup_week', y='signups', marker='o')\n",
    "plt.title('Weekly Signups')\n",
    "plt.xlabel('Week')\n",
    "plt.ylabel('Number of Signups')\n",
    "plt.xticks(rotation=45)\n",
    "plt.tight_layout()\n",
    "plt.grid(True)\n",
    "plt.show()"
   ]
  },
  {
   "cell_type": "code",
   "execution_count": 22,
   "id": "6c45eb7e-2a7e-44e4-b393-e82cece3a87b",
   "metadata": {},
   "outputs": [
    {
     "data": {
      "text/html": [
       "<div>\n",
       "<style scoped>\n",
       "    .dataframe tbody tr th:only-of-type {\n",
       "        vertical-align: middle;\n",
       "    }\n",
       "\n",
       "    .dataframe tbody tr th {\n",
       "        vertical-align: top;\n",
       "    }\n",
       "\n",
       "    .dataframe thead th {\n",
       "        text-align: right;\n",
       "    }\n",
       "</style>\n",
       "<table border=\"1\" class=\"dataframe\">\n",
       "  <thead>\n",
       "    <tr style=\"text-align: right;\">\n",
       "      <th></th>\n",
       "      <th>signup_week</th>\n",
       "      <th>signups</th>\n",
       "    </tr>\n",
       "  </thead>\n",
       "  <tbody>\n",
       "    <tr>\n",
       "      <th>0</th>\n",
       "      <td>2024-01-01</td>\n",
       "      <td>6</td>\n",
       "    </tr>\n",
       "    <tr>\n",
       "      <th>1</th>\n",
       "      <td>2024-01-08</td>\n",
       "      <td>5</td>\n",
       "    </tr>\n",
       "    <tr>\n",
       "      <th>2</th>\n",
       "      <td>2024-01-15</td>\n",
       "      <td>7</td>\n",
       "    </tr>\n",
       "    <tr>\n",
       "      <th>3</th>\n",
       "      <td>2024-01-22</td>\n",
       "      <td>7</td>\n",
       "    </tr>\n",
       "    <tr>\n",
       "      <th>4</th>\n",
       "      <td>2024-01-29</td>\n",
       "      <td>8</td>\n",
       "    </tr>\n",
       "    <tr>\n",
       "      <th>5</th>\n",
       "      <td>2024-02-05</td>\n",
       "      <td>6</td>\n",
       "    </tr>\n",
       "    <tr>\n",
       "      <th>6</th>\n",
       "      <td>2024-02-12</td>\n",
       "      <td>6</td>\n",
       "    </tr>\n",
       "    <tr>\n",
       "      <th>7</th>\n",
       "      <td>2024-02-19</td>\n",
       "      <td>7</td>\n",
       "    </tr>\n",
       "    <tr>\n",
       "      <th>8</th>\n",
       "      <td>2024-02-26</td>\n",
       "      <td>7</td>\n",
       "    </tr>\n",
       "    <tr>\n",
       "      <th>9</th>\n",
       "      <td>2024-03-04</td>\n",
       "      <td>7</td>\n",
       "    </tr>\n",
       "    <tr>\n",
       "      <th>10</th>\n",
       "      <td>2024-03-11</td>\n",
       "      <td>5</td>\n",
       "    </tr>\n",
       "    <tr>\n",
       "      <th>11</th>\n",
       "      <td>2024-03-18</td>\n",
       "      <td>6</td>\n",
       "    </tr>\n",
       "    <tr>\n",
       "      <th>12</th>\n",
       "      <td>2024-03-25</td>\n",
       "      <td>6</td>\n",
       "    </tr>\n",
       "    <tr>\n",
       "      <th>13</th>\n",
       "      <td>2024-04-01</td>\n",
       "      <td>7</td>\n",
       "    </tr>\n",
       "    <tr>\n",
       "      <th>14</th>\n",
       "      <td>2024-04-08</td>\n",
       "      <td>5</td>\n",
       "    </tr>\n",
       "    <tr>\n",
       "      <th>15</th>\n",
       "      <td>2024-04-15</td>\n",
       "      <td>7</td>\n",
       "    </tr>\n",
       "    <tr>\n",
       "      <th>16</th>\n",
       "      <td>2024-04-22</td>\n",
       "      <td>7</td>\n",
       "    </tr>\n",
       "    <tr>\n",
       "      <th>17</th>\n",
       "      <td>2024-04-29</td>\n",
       "      <td>6</td>\n",
       "    </tr>\n",
       "    <tr>\n",
       "      <th>18</th>\n",
       "      <td>2024-05-06</td>\n",
       "      <td>4</td>\n",
       "    </tr>\n",
       "    <tr>\n",
       "      <th>19</th>\n",
       "      <td>2024-05-13</td>\n",
       "      <td>7</td>\n",
       "    </tr>\n",
       "    <tr>\n",
       "      <th>20</th>\n",
       "      <td>2024-05-20</td>\n",
       "      <td>7</td>\n",
       "    </tr>\n",
       "    <tr>\n",
       "      <th>21</th>\n",
       "      <td>2024-05-27</td>\n",
       "      <td>7</td>\n",
       "    </tr>\n",
       "    <tr>\n",
       "      <th>22</th>\n",
       "      <td>2024-06-03</td>\n",
       "      <td>13</td>\n",
       "    </tr>\n",
       "    <tr>\n",
       "      <th>23</th>\n",
       "      <td>2024-06-10</td>\n",
       "      <td>5</td>\n",
       "    </tr>\n",
       "    <tr>\n",
       "      <th>24</th>\n",
       "      <td>2024-06-17</td>\n",
       "      <td>7</td>\n",
       "    </tr>\n",
       "    <tr>\n",
       "      <th>25</th>\n",
       "      <td>2024-06-24</td>\n",
       "      <td>7</td>\n",
       "    </tr>\n",
       "    <tr>\n",
       "      <th>26</th>\n",
       "      <td>2024-07-01</td>\n",
       "      <td>7</td>\n",
       "    </tr>\n",
       "    <tr>\n",
       "      <th>27</th>\n",
       "      <td>2024-07-08</td>\n",
       "      <td>5</td>\n",
       "    </tr>\n",
       "    <tr>\n",
       "      <th>28</th>\n",
       "      <td>2024-07-15</td>\n",
       "      <td>6</td>\n",
       "    </tr>\n",
       "    <tr>\n",
       "      <th>29</th>\n",
       "      <td>2024-07-22</td>\n",
       "      <td>7</td>\n",
       "    </tr>\n",
       "    <tr>\n",
       "      <th>30</th>\n",
       "      <td>2024-07-29</td>\n",
       "      <td>7</td>\n",
       "    </tr>\n",
       "    <tr>\n",
       "      <th>31</th>\n",
       "      <td>2024-08-05</td>\n",
       "      <td>5</td>\n",
       "    </tr>\n",
       "    <tr>\n",
       "      <th>32</th>\n",
       "      <td>2024-08-12</td>\n",
       "      <td>6</td>\n",
       "    </tr>\n",
       "    <tr>\n",
       "      <th>33</th>\n",
       "      <td>2024-08-19</td>\n",
       "      <td>7</td>\n",
       "    </tr>\n",
       "    <tr>\n",
       "      <th>34</th>\n",
       "      <td>2024-08-26</td>\n",
       "      <td>7</td>\n",
       "    </tr>\n",
       "    <tr>\n",
       "      <th>35</th>\n",
       "      <td>2024-09-02</td>\n",
       "      <td>7</td>\n",
       "    </tr>\n",
       "    <tr>\n",
       "      <th>36</th>\n",
       "      <td>2024-09-09</td>\n",
       "      <td>5</td>\n",
       "    </tr>\n",
       "    <tr>\n",
       "      <th>37</th>\n",
       "      <td>2024-09-16</td>\n",
       "      <td>7</td>\n",
       "    </tr>\n",
       "    <tr>\n",
       "      <th>38</th>\n",
       "      <td>2024-09-23</td>\n",
       "      <td>7</td>\n",
       "    </tr>\n",
       "    <tr>\n",
       "      <th>39</th>\n",
       "      <td>2024-09-30</td>\n",
       "      <td>6</td>\n",
       "    </tr>\n",
       "    <tr>\n",
       "      <th>40</th>\n",
       "      <td>2024-10-07</td>\n",
       "      <td>5</td>\n",
       "    </tr>\n",
       "    <tr>\n",
       "      <th>41</th>\n",
       "      <td>2024-10-14</td>\n",
       "      <td>6</td>\n",
       "    </tr>\n",
       "    <tr>\n",
       "      <th>42</th>\n",
       "      <td>2024-10-21</td>\n",
       "      <td>6</td>\n",
       "    </tr>\n",
       "    <tr>\n",
       "      <th>43</th>\n",
       "      <td>2024-10-28</td>\n",
       "      <td>3</td>\n",
       "    </tr>\n",
       "    <tr>\n",
       "      <th>44</th>\n",
       "      <td>2024-11-04</td>\n",
       "      <td>7</td>\n",
       "    </tr>\n",
       "    <tr>\n",
       "      <th>45</th>\n",
       "      <td>2024-11-25</td>\n",
       "      <td>1</td>\n",
       "    </tr>\n",
       "    <tr>\n",
       "      <th>46</th>\n",
       "      <td>2024-12-02</td>\n",
       "      <td>7</td>\n",
       "    </tr>\n",
       "    <tr>\n",
       "      <th>47</th>\n",
       "      <td>2024-12-09</td>\n",
       "      <td>2</td>\n",
       "    </tr>\n",
       "  </tbody>\n",
       "</table>\n",
       "</div>"
      ],
      "text/plain": [
       "   signup_week  signups\n",
       "0   2024-01-01        6\n",
       "1   2024-01-08        5\n",
       "2   2024-01-15        7\n",
       "3   2024-01-22        7\n",
       "4   2024-01-29        8\n",
       "5   2024-02-05        6\n",
       "6   2024-02-12        6\n",
       "7   2024-02-19        7\n",
       "8   2024-02-26        7\n",
       "9   2024-03-04        7\n",
       "10  2024-03-11        5\n",
       "11  2024-03-18        6\n",
       "12  2024-03-25        6\n",
       "13  2024-04-01        7\n",
       "14  2024-04-08        5\n",
       "15  2024-04-15        7\n",
       "16  2024-04-22        7\n",
       "17  2024-04-29        6\n",
       "18  2024-05-06        4\n",
       "19  2024-05-13        7\n",
       "20  2024-05-20        7\n",
       "21  2024-05-27        7\n",
       "22  2024-06-03       13\n",
       "23  2024-06-10        5\n",
       "24  2024-06-17        7\n",
       "25  2024-06-24        7\n",
       "26  2024-07-01        7\n",
       "27  2024-07-08        5\n",
       "28  2024-07-15        6\n",
       "29  2024-07-22        7\n",
       "30  2024-07-29        7\n",
       "31  2024-08-05        5\n",
       "32  2024-08-12        6\n",
       "33  2024-08-19        7\n",
       "34  2024-08-26        7\n",
       "35  2024-09-02        7\n",
       "36  2024-09-09        5\n",
       "37  2024-09-16        7\n",
       "38  2024-09-23        7\n",
       "39  2024-09-30        6\n",
       "40  2024-10-07        5\n",
       "41  2024-10-14        6\n",
       "42  2024-10-21        6\n",
       "43  2024-10-28        3\n",
       "44  2024-11-04        7\n",
       "45  2024-11-25        1\n",
       "46  2024-12-02        7\n",
       "47  2024-12-09        2"
      ]
     },
     "execution_count": 22,
     "metadata": {},
     "output_type": "execute_result"
    }
   ],
   "source": [
    "weekly_signups"
   ]
  },
  {
   "cell_type": "code",
   "execution_count": null,
   "id": "8c8c863f-78a2-48c7-b8c3-1fd18720aec6",
   "metadata": {},
   "outputs": [],
   "source": []
  },
  {
   "cell_type": "code",
   "execution_count": 23,
   "id": "0092c323-110a-4e9d-86fc-45eefbffc990",
   "metadata": {},
   "outputs": [
    {
     "name": "stdout",
     "output_type": "stream",
     "text": [
      "      source  signups\n",
      "0    YouTube       58\n",
      "1     Google       50\n",
      "2   Referral       49\n",
      "3  Instagram       48\n",
      "4   Facebook       40\n",
      "5   LinkedIn       38\n",
      "6    Unknown       15\n"
     ]
    },
    {
     "data": {
      "image/png": "[encoded data removed]",
      "text/plain": [
       "<Figure size 1000x500 with 1 Axes>"
      ]
     },
     "metadata": {},
     "output_type": "display_data"
    },
    {
     "name": "stdout",
     "output_type": "stream",
     "text": [
      "  plan_selected  signups\n",
      "0       Premium       99\n",
      "1           Pro       93\n",
      "2         Basic       92\n",
      "3   Unknownplan       14\n"
     ]
    }
   ],
   "source": [
    "# Sign-ups by source, region, and plan_selected \n",
    "signups_by_source = df['source'].value_counts().reset_index(name='signups')\n",
    "signups_by_source.columns = ['source', 'signups']\n",
    "print(signups_by_source)\n",
    "\n",
    "signups_by_region = df['region'].value_counts().reset_index(name='signups')\n",
    "signups_by_region.columns = ['region', 'signups']\n",
    "\n",
    "# Sort regions by signups descending\n",
    "signups_by_region = signups_by_region.sort_values(by='signups', ascending=False)\n",
    "\n",
    "# Create a bar plot\n",
    "plt.figure(figsize=(10, 5))  # Adjust the size to fit without scrolling\n",
    "sns.barplot(data=signups_by_region, x='region', y='signups', palette='Blues_d',hue='region',legend=False)\n",
    "\n",
    "plt.title('Signups by Region')\n",
    "plt.xlabel('Region')\n",
    "plt.ylabel('Number of Signups')\n",
    "plt.xticks(rotation=45)  # Rotate x-axis labels for better fit\n",
    "plt.tight_layout()       # Prevent clipping\n",
    "plt.show()\n",
    "\n",
    "signups_by_plan = df['plan_selected'].value_counts().reset_index(name='signups')\n",
    "signups_by_plan.columns = ['plan_selected', 'signups']\n",
    "print(signups_by_plan)\n"
   ]
  },
  {
   "cell_type": "code",
   "execution_count": 24,
   "id": "f4403b01-87b5-420f-a9ba-d420e160a7c8",
   "metadata": {},
   "outputs": [
    {
     "name": "stdout",
     "output_type": "stream",
     "text": [
      "         gender marketing_opt_in  count\n",
      "0        Female               No     47\n",
      "1        Female          Unknown      1\n",
      "2        Female              Yes     44\n",
      "3          Male               No     51\n",
      "4          Male          Unknown      3\n",
      "5          Male              Yes     37\n",
      "6         Other               No     52\n",
      "7         Other          Unknown      6\n",
      "8         Other              Yes     43\n",
      "9   Unspecified               No      7\n",
      "10  Unspecified              Yes      7\n"
     ]
    }
   ],
   "source": [
    "# Marketing opt-in counts by gender \n",
    "\n",
    "Marketing_optin_by_gender = df.groupby(['gender', 'marketing_opt_in']).size().reset_index(name='count')\n",
    "print(Marketing_optin_by_gender)"
   ]
  },
  {
   "cell_type": "code",
   "execution_count": 25,
   "id": "494367b3-f83a-4fb9-a285-7fb3ae6f4d1d",
   "metadata": {},
   "outputs": [
    {
     "data": {
      "text/plain": [
       "{'Min Age': 21,\n",
       " 'Max Age': 60,\n",
       " 'Mean  ': 35.55,\n",
       " 'Median': 34.0,\n",
       " 'Null Count': 19}"
      ]
     },
     "execution_count": 25,
     "metadata": {},
     "output_type": "execute_result"
    }
   ],
   "source": [
    "# Age summary: min, max, mean, median, null count \n",
    "Age_summary= { \n",
    "    'Min Age'    : df['age'].min(),\n",
    "    'Max Age'    : df['age'].max(),\n",
    "    'Mean  '   : df['age'].mean().round(2),\n",
    "    'Median' : df['age'].median(),\n",
    "    'Null Count': df['age'].isna().sum()\n",
    "            }\n",
    "\n",
    "Age_summary\n"
   ]
  },
  {
   "cell_type": "markdown",
   "id": "6527164f-4d16-4a93-a1e7-8b3325655986",
   "metadata": {},
   "source": [
    "###  4. Answer the business Questions "
   ]
  },
  {
   "cell_type": "code",
   "execution_count": 26,
   "id": "7833b131-1d4d-4e30-bc28-f0dbaeaf9eba",
   "metadata": {},
   "outputs": [
    {
     "data": {
      "image/png": "[encoded data removed]",
      "text/plain": [
       "<Figure size 800x500 with 1 Axes>"
      ]
     },
     "metadata": {},
     "output_type": "display_data"
    },
    {
     "name": "stdout",
     "output_type": "stream",
     "text": [
      "Top acquisition source in December 2024:\n",
      "Instagram with 4 sign-ups\n"
     ]
    }
   ],
   "source": [
    "# Which acquisition source brought in the most users last month? \n",
    "\n",
    "last_month_start = pd.Timestamp('2024-12-01')\n",
    "last_month_end = pd.Timestamp('2024-12-31')\n",
    "\n",
    "df_last_month = df[(df['signup_date'] >= last_month_start) & \n",
    "                   (df['signup_date'] <= last_month_end)]\n",
    "\n",
    "#count signups by source\n",
    "source_counts = df_last_month['source'].value_counts()\n",
    "\n",
    "sns.set(style=\"whitegrid\")\n",
    "\n",
    "# Prepare the data as a DataFrame (from source_counts Series)\n",
    "source_df = source_counts.reset_index()\n",
    "source_df.columns = ['source', 'signups']\n",
    "\n",
    "# Plot with hue set to x variable and legend off\n",
    "plt.figure(figsize=(8, 5))\n",
    "sns.barplot(data=source_df, x='source', y='signups', hue='source', palette='Set2', legend=False)\n",
    "\n",
    "plt.title(\"Signups by Source (Last Month)\", fontsize=14)\n",
    "plt.xlabel(\"Source\", fontsize=12)\n",
    "plt.ylabel(\"Number of Signups\", fontsize=12)\n",
    "plt.xticks(rotation=45)\n",
    "plt.tight_layout()\n",
    "plt.show()\n",
    "\n",
    "top_source = source_counts.idxmax()\n",
    "top_signups = source_counts.max()\n",
    "\n",
    "print(f\"Top acquisition source in December 2024:\")\n",
    "print(f\"{top_source} with {top_signups} sign-ups\")\n"
   ]
  },
  {
   "cell_type": "code",
   "execution_count": 27,
   "id": "8509a78c-b193-4eb9-aa05-d5abdc078f0a",
   "metadata": {},
   "outputs": [
    {
     "data": {
      "text/html": [
       "<div>\n",
       "<style scoped>\n",
       "    .dataframe tbody tr th:only-of-type {\n",
       "        vertical-align: middle;\n",
       "    }\n",
       "\n",
       "    .dataframe tbody tr th {\n",
       "        vertical-align: top;\n",
       "    }\n",
       "\n",
       "    .dataframe thead th {\n",
       "        text-align: right;\n",
       "    }\n",
       "</style>\n",
       "<table border=\"1\" class=\"dataframe\">\n",
       "  <thead>\n",
       "    <tr style=\"text-align: right;\">\n",
       "      <th></th>\n",
       "      <th>region</th>\n",
       "      <th>total_users</th>\n",
       "      <th>missing_emails_count</th>\n",
       "      <th>%_missing</th>\n",
       "    </tr>\n",
       "  </thead>\n",
       "  <tbody>\n",
       "    <tr>\n",
       "      <th>0</th>\n",
       "      <td>Central</td>\n",
       "      <td>39</td>\n",
       "      <td>5</td>\n",
       "      <td>12.820513</td>\n",
       "    </tr>\n",
       "    <tr>\n",
       "      <th>1</th>\n",
       "      <td>East</td>\n",
       "      <td>61</td>\n",
       "      <td>7</td>\n",
       "      <td>11.475410</td>\n",
       "    </tr>\n",
       "    <tr>\n",
       "      <th>2</th>\n",
       "      <td>North</td>\n",
       "      <td>65</td>\n",
       "      <td>10</td>\n",
       "      <td>15.384615</td>\n",
       "    </tr>\n",
       "    <tr>\n",
       "      <th>3</th>\n",
       "      <td>South</td>\n",
       "      <td>59</td>\n",
       "      <td>4</td>\n",
       "      <td>6.779661</td>\n",
       "    </tr>\n",
       "    <tr>\n",
       "      <th>4</th>\n",
       "      <td>Unknown</td>\n",
       "      <td>30</td>\n",
       "      <td>4</td>\n",
       "      <td>13.333333</td>\n",
       "    </tr>\n",
       "    <tr>\n",
       "      <th>5</th>\n",
       "      <td>West</td>\n",
       "      <td>46</td>\n",
       "      <td>4</td>\n",
       "      <td>8.695652</td>\n",
       "    </tr>\n",
       "  </tbody>\n",
       "</table>\n",
       "</div>"
      ],
      "text/plain": [
       "    region  total_users  missing_emails_count  %_missing\n",
       "0  Central           39                     5  12.820513\n",
       "1     East           61                     7  11.475410\n",
       "2    North           65                    10  15.384615\n",
       "3    South           59                     4   6.779661\n",
       "4  Unknown           30                     4  13.333333\n",
       "5     West           46                     4   8.695652"
      ]
     },
     "execution_count": 27,
     "metadata": {},
     "output_type": "execute_result"
    }
   ],
   "source": [
    "# Which region shows signs of missing or incomplete data\n",
    "# Null/Missing values in email id corresponding to each region and % of missing values\n",
    "\n",
    "df_original['region'] = df_original['region'].fillna('Unknown')\n",
    "missing_summary = df_original.groupby('region').agg(\n",
    "    total_users=('email', 'size'),\n",
    "    missing_emails_count=('email', lambda x: x.isna().sum())\n",
    ")\n",
    "\n",
    "missing_summary['%_missing'] = (missing_summary['missing_emails_count'] / missing_summary['total_users']) * 100\n",
    "missing_summary = missing_summary.reset_index()\n",
    "\n",
    "missing_summary "
   ]
  },
  {
   "cell_type": "code",
   "execution_count": 28,
   "id": "cb170115-8615-490c-929f-35acfaf2d930",
   "metadata": {},
   "outputs": [
    {
     "name": "stdout",
     "output_type": "stream",
     "text": [
      "marketing_opt_in  No  Unknown  Yes\n",
      "age_group                         \n",
      "18–24             42        4   30\n",
      "25–34             48        3   39\n",
      "35–44             25        1   24\n",
      "45–54             24        2   23\n",
      "55–64              8        0    6\n"
     ]
    },
    {
     "data": {
      "image/png": "[encoded data removed]",
      "text/plain": [
       "<Figure size 1000x600 with 1 Axes>"
      ]
     },
     "metadata": {},
     "output_type": "display_data"
    }
   ],
   "source": [
    "# Are older users more or less likely to opt in to marketing? \n",
    "\n",
    "age_bins = [18, 25, 35, 45, 55, 65]\n",
    "age_labels = ['18–24', '25–34', '35–44', '45–54', '55–64']\n",
    "df['age_group'] = pd.cut(df['age'], bins=age_bins, labels=age_labels)\n",
    "optin_by_age = df.groupby(['age_group', 'marketing_opt_in'],observed=True).size().unstack(fill_value=0)\n",
    "\n",
    "optin_by_age.plot(kind='bar', stacked=True, figsize=(10,6))\n",
    "print(optin_by_age)\n",
    "plt.title('Marketing Opt-in by Age Group')\n",
    "plt.xlabel('Age Group')\n",
    "plt.ylabel('Count')\n",
    "plt.xticks(rotation=45)\n",
    "plt.legend(title='Marketing Opt-in')\n",
    "plt.tight_layout()\n",
    "plt.show()"
   ]
  },
  {
   "cell_type": "code",
   "execution_count": 29,
   "id": "845deb46-e91f-40f4-a89b-28a4003e4f17",
   "metadata": {},
   "outputs": [
    {
     "data": {
      "text/html": [
       "<div>\n",
       "<style scoped>\n",
       "    .dataframe tbody tr th:only-of-type {\n",
       "        vertical-align: middle;\n",
       "    }\n",
       "\n",
       "    .dataframe tbody tr th {\n",
       "        vertical-align: top;\n",
       "    }\n",
       "\n",
       "    .dataframe thead th {\n",
       "        text-align: right;\n",
       "    }\n",
       "</style>\n",
       "<table border=\"1\" class=\"dataframe\">\n",
       "  <thead>\n",
       "    <tr style=\"text-align: right;\">\n",
       "      <th></th>\n",
       "      <th>age_group</th>\n",
       "      <th>most_common_plan</th>\n",
       "    </tr>\n",
       "  </thead>\n",
       "  <tbody>\n",
       "    <tr>\n",
       "      <th>0</th>\n",
       "      <td>18–24</td>\n",
       "      <td>Basic</td>\n",
       "    </tr>\n",
       "    <tr>\n",
       "      <th>1</th>\n",
       "      <td>25–34</td>\n",
       "      <td>Premium</td>\n",
       "    </tr>\n",
       "    <tr>\n",
       "      <th>2</th>\n",
       "      <td>35–44</td>\n",
       "      <td>Premium</td>\n",
       "    </tr>\n",
       "    <tr>\n",
       "      <th>3</th>\n",
       "      <td>45–54</td>\n",
       "      <td>Pro</td>\n",
       "    </tr>\n",
       "    <tr>\n",
       "      <th>4</th>\n",
       "      <td>55–64</td>\n",
       "      <td>Basic</td>\n",
       "    </tr>\n",
       "  </tbody>\n",
       "</table>\n",
       "</div>"
      ],
      "text/plain": [
       "  age_group most_common_plan\n",
       "0     18–24            Basic\n",
       "1     25–34          Premium\n",
       "2     35–44          Premium\n",
       "3     45–54              Pro\n",
       "4     55–64            Basic"
      ]
     },
     "execution_count": 29,
     "metadata": {},
     "output_type": "execute_result"
    }
   ],
   "source": [
    "# Which plan is most commonly selected, and by which age group? \n",
    "most_common_plan_by_age = (\n",
    "    df.groupby('age_group',observed=True)['plan_selected']\n",
    "    .agg(lambda x: x.mode().iloc[0])  # mode = most common\n",
    "    .reset_index(name='most_common_plan')\n",
    ")\n",
    "most_common_plan_by_age "
   ]
  },
  {
   "cell_type": "markdown",
   "id": "db86d77e-4c36-471e-8603-f7be2856f55b",
   "metadata": {},
   "source": [
    "### 5. Optional Stretch Task "
   ]
  },
  {
   "cell_type": "code",
   "execution_count": 30,
   "id": "a13d691d-6a69-4bcd-a591-4c2e43f95229",
   "metadata": {},
   "outputs": [
    {
     "name": "stdout",
     "output_type": "stream",
     "text": [
      "<class 'pandas.core.frame.DataFrame'>\n",
      "RangeIndex: 123 entries, 0 to 122\n",
      "Data columns (total 5 columns):\n",
      " #   Column       Non-Null Count  Dtype \n",
      "---  ------       --------------  ----- \n",
      " 0   ticket_id    123 non-null    object\n",
      " 1   customer_id  123 non-null    object\n",
      " 2   ticket_date  123 non-null    object\n",
      " 3   issue_type   123 non-null    object\n",
      " 4   resolved     123 non-null    object\n",
      "dtypes: object(5)\n",
      "memory usage: 4.9+ KB\n"
     ]
    }
   ],
   "source": [
    "# Load the support_tickets.csv dataset \n",
    "df_support_tickets = pd.read_csv('support_tickets.csv', encoding='unicode_escape')\n",
    "df_support_tickets.info()"
   ]
  },
  {
   "cell_type": "code",
   "execution_count": 31,
   "id": "55ebb818-519c-4974-8e76-3e012c2efcfd",
   "metadata": {},
   "outputs": [
    {
     "data": {
      "text/html": [
       "<div>\n",
       "<style scoped>\n",
       "    .dataframe tbody tr th:only-of-type {\n",
       "        vertical-align: middle;\n",
       "    }\n",
       "\n",
       "    .dataframe tbody tr th {\n",
       "        vertical-align: top;\n",
       "    }\n",
       "\n",
       "    .dataframe thead th {\n",
       "        text-align: right;\n",
       "    }\n",
       "</style>\n",
       "<table border=\"1\" class=\"dataframe\">\n",
       "  <thead>\n",
       "    <tr style=\"text-align: right;\">\n",
       "      <th></th>\n",
       "      <th>customer_id</th>\n",
       "      <th>name</th>\n",
       "      <th>email</th>\n",
       "      <th>signup_date</th>\n",
       "      <th>source</th>\n",
       "      <th>region</th>\n",
       "      <th>plan_selected</th>\n",
       "      <th>marketing_opt_in</th>\n",
       "      <th>age</th>\n",
       "      <th>gender</th>\n",
       "      <th>signup_week</th>\n",
       "      <th>age_group</th>\n",
       "      <th>ticket_id</th>\n",
       "      <th>ticket_date</th>\n",
       "      <th>issue_type</th>\n",
       "      <th>resolved</th>\n",
       "    </tr>\n",
       "  </thead>\n",
       "  <tbody>\n",
       "    <tr>\n",
       "      <th>0</th>\n",
       "      <td>CUST00005</td>\n",
       "      <td>John Gonzales</td>\n",
       "      <td>john5@mailhub.org</td>\n",
       "      <td>2024-06-01</td>\n",
       "      <td>Facebook</td>\n",
       "      <td>South</td>\n",
       "      <td>Premium</td>\n",
       "      <td>No</td>\n",
       "      <td>34</td>\n",
       "      <td>Other</td>\n",
       "      <td>2024-05-27</td>\n",
       "      <td>25–34</td>\n",
       "      <td>TKT0008-1</td>\n",
       "      <td>2024-06-04</td>\n",
       "      <td>Other</td>\n",
       "      <td>Yes</td>\n",
       "    </tr>\n",
       "    <tr>\n",
       "      <th>1</th>\n",
       "      <td>CUST00007</td>\n",
       "      <td>Michael Bailey</td>\n",
       "      <td>michael7@mailhub.org</td>\n",
       "      <td>2024-08-01</td>\n",
       "      <td>YouTube</td>\n",
       "      <td>Central</td>\n",
       "      <td>Pro</td>\n",
       "      <td>Yes</td>\n",
       "      <td>60</td>\n",
       "      <td>Other</td>\n",
       "      <td>2024-07-29</td>\n",
       "      <td>55–64</td>\n",
       "      <td>TKT0036-1</td>\n",
       "      <td>2024-08-07</td>\n",
       "      <td>Billing</td>\n",
       "      <td>Yes</td>\n",
       "    </tr>\n",
       "    <tr>\n",
       "      <th>2</th>\n",
       "      <td>CUST00007</td>\n",
       "      <td>Michael Bailey</td>\n",
       "      <td>michael7@mailhub.org</td>\n",
       "      <td>2024-08-01</td>\n",
       "      <td>YouTube</td>\n",
       "      <td>Central</td>\n",
       "      <td>Pro</td>\n",
       "      <td>Yes</td>\n",
       "      <td>60</td>\n",
       "      <td>Other</td>\n",
       "      <td>2024-07-29</td>\n",
       "      <td>55–64</td>\n",
       "      <td>TKT0036-2</td>\n",
       "      <td>2024-08-23</td>\n",
       "      <td>Other</td>\n",
       "      <td>Yes</td>\n",
       "    </tr>\n",
       "    <tr>\n",
       "      <th>3</th>\n",
       "      <td>CUST00009</td>\n",
       "      <td>Cindy Anderson</td>\n",
       "      <td>unknown@example.com</td>\n",
       "      <td>2024-10-01</td>\n",
       "      <td>Google</td>\n",
       "      <td>East</td>\n",
       "      <td>Premium</td>\n",
       "      <td>No</td>\n",
       "      <td>29</td>\n",
       "      <td>Female</td>\n",
       "      <td>2024-09-30</td>\n",
       "      <td>25–34</td>\n",
       "      <td>TKT0003-1</td>\n",
       "      <td>2024-10-03</td>\n",
       "      <td>Technical Error</td>\n",
       "      <td>No</td>\n",
       "    </tr>\n",
       "    <tr>\n",
       "      <th>4</th>\n",
       "      <td>CUST00017</td>\n",
       "      <td>Patty Paul</td>\n",
       "      <td>patty17@inboxmail.net</td>\n",
       "      <td>2024-01-18</td>\n",
       "      <td>YouTube</td>\n",
       "      <td>East</td>\n",
       "      <td>Pro</td>\n",
       "      <td>No</td>\n",
       "      <td>53</td>\n",
       "      <td>Other</td>\n",
       "      <td>2024-01-15</td>\n",
       "      <td>45–54</td>\n",
       "      <td>TKT0030-1</td>\n",
       "      <td>2024-02-03</td>\n",
       "      <td>Other</td>\n",
       "      <td>Yes</td>\n",
       "    </tr>\n",
       "    <tr>\n",
       "      <th>...</th>\n",
       "      <td>...</td>\n",
       "      <td>...</td>\n",
       "      <td>...</td>\n",
       "      <td>...</td>\n",
       "      <td>...</td>\n",
       "      <td>...</td>\n",
       "      <td>...</td>\n",
       "      <td>...</td>\n",
       "      <td>...</td>\n",
       "      <td>...</td>\n",
       "      <td>...</td>\n",
       "      <td>...</td>\n",
       "      <td>...</td>\n",
       "      <td>...</td>\n",
       "      <td>...</td>\n",
       "      <td>...</td>\n",
       "    </tr>\n",
       "    <tr>\n",
       "      <th>95</th>\n",
       "      <td>CUST00237</td>\n",
       "      <td>Olivia Schmitt</td>\n",
       "      <td>olivia37@example.com</td>\n",
       "      <td>2024-08-25</td>\n",
       "      <td>Facebook</td>\n",
       "      <td>East</td>\n",
       "      <td>Pro</td>\n",
       "      <td>No</td>\n",
       "      <td>34</td>\n",
       "      <td>Female</td>\n",
       "      <td>2024-08-19</td>\n",
       "      <td>25–34</td>\n",
       "      <td>TKT0010-1</td>\n",
       "      <td>2024-09-15</td>\n",
       "      <td>Account Setup</td>\n",
       "      <td>Yes</td>\n",
       "    </tr>\n",
       "    <tr>\n",
       "      <th>96</th>\n",
       "      <td>CUST00237</td>\n",
       "      <td>Olivia Schmitt</td>\n",
       "      <td>olivia37@example.com</td>\n",
       "      <td>2024-08-25</td>\n",
       "      <td>Facebook</td>\n",
       "      <td>East</td>\n",
       "      <td>Pro</td>\n",
       "      <td>No</td>\n",
       "      <td>34</td>\n",
       "      <td>Female</td>\n",
       "      <td>2024-08-19</td>\n",
       "      <td>25–34</td>\n",
       "      <td>TKT0010-2</td>\n",
       "      <td>2024-09-23</td>\n",
       "      <td>Other</td>\n",
       "      <td>Yes</td>\n",
       "    </tr>\n",
       "    <tr>\n",
       "      <th>97</th>\n",
       "      <td>CUST00237</td>\n",
       "      <td>Olivia Schmitt</td>\n",
       "      <td>olivia37@example.com</td>\n",
       "      <td>2024-08-25</td>\n",
       "      <td>Facebook</td>\n",
       "      <td>East</td>\n",
       "      <td>Pro</td>\n",
       "      <td>No</td>\n",
       "      <td>34</td>\n",
       "      <td>Female</td>\n",
       "      <td>2024-08-19</td>\n",
       "      <td>25–34</td>\n",
       "      <td>TKT0010-3</td>\n",
       "      <td>2024-09-19</td>\n",
       "      <td>Login Issue</td>\n",
       "      <td>Yes</td>\n",
       "    </tr>\n",
       "    <tr>\n",
       "      <th>98</th>\n",
       "      <td>CUST00238</td>\n",
       "      <td>Misty Blair</td>\n",
       "      <td>misty38@example.com</td>\n",
       "      <td>2024-08-26</td>\n",
       "      <td>Instagram</td>\n",
       "      <td>West</td>\n",
       "      <td>Premium</td>\n",
       "      <td>Yes</td>\n",
       "      <td>53</td>\n",
       "      <td>Male</td>\n",
       "      <td>2024-08-26</td>\n",
       "      <td>45–54</td>\n",
       "      <td>TKT0029-1</td>\n",
       "      <td>2024-08-30</td>\n",
       "      <td>Login Issue</td>\n",
       "      <td>Yes</td>\n",
       "    </tr>\n",
       "    <tr>\n",
       "      <th>99</th>\n",
       "      <td>CUST00238</td>\n",
       "      <td>Misty Blair</td>\n",
       "      <td>misty38@example.com</td>\n",
       "      <td>2024-08-26</td>\n",
       "      <td>Instagram</td>\n",
       "      <td>West</td>\n",
       "      <td>Premium</td>\n",
       "      <td>Yes</td>\n",
       "      <td>53</td>\n",
       "      <td>Male</td>\n",
       "      <td>2024-08-26</td>\n",
       "      <td>45–54</td>\n",
       "      <td>TKT0029-2</td>\n",
       "      <td>2024-08-28</td>\n",
       "      <td>Login Issue</td>\n",
       "      <td>Yes</td>\n",
       "    </tr>\n",
       "  </tbody>\n",
       "</table>\n",
       "<p>100 rows × 16 columns</p>\n",
       "</div>"
      ],
      "text/plain": [
       "   customer_id            name                  email signup_date     source  \\\n",
       "0    CUST00005   John Gonzales      john5@mailhub.org  2024-06-01   Facebook   \n",
       "1    CUST00007  Michael Bailey   michael7@mailhub.org  2024-08-01    YouTube   \n",
       "2    CUST00007  Michael Bailey   michael7@mailhub.org  2024-08-01    YouTube   \n",
       "3    CUST00009  Cindy Anderson    unknown@example.com  2024-10-01     Google   \n",
       "4    CUST00017      Patty Paul  patty17@inboxmail.net  2024-01-18    YouTube   \n",
       "..         ...             ...                    ...         ...        ...   \n",
       "95   CUST00237  Olivia Schmitt   olivia37@example.com  2024-08-25   Facebook   \n",
       "96   CUST00237  Olivia Schmitt   olivia37@example.com  2024-08-25   Facebook   \n",
       "97   CUST00237  Olivia Schmitt   olivia37@example.com  2024-08-25   Facebook   \n",
       "98   CUST00238     Misty Blair    misty38@example.com  2024-08-26  Instagram   \n",
       "99   CUST00238     Misty Blair    misty38@example.com  2024-08-26  Instagram   \n",
       "\n",
       "     region plan_selected marketing_opt_in  age  gender signup_week age_group  \\\n",
       "0     South       Premium               No   34   Other  2024-05-27     25–34   \n",
       "1   Central           Pro              Yes   60   Other  2024-07-29     55–64   \n",
       "2   Central           Pro              Yes   60   Other  2024-07-29     55–64   \n",
       "3      East       Premium               No   29  Female  2024-09-30     25–34   \n",
       "4      East           Pro               No   53   Other  2024-01-15     45–54   \n",
       "..      ...           ...              ...  ...     ...         ...       ...   \n",
       "95     East           Pro               No   34  Female  2024-08-19     25–34   \n",
       "96     East           Pro               No   34  Female  2024-08-19     25–34   \n",
       "97     East           Pro               No   34  Female  2024-08-19     25–34   \n",
       "98     West       Premium              Yes   53    Male  2024-08-26     45–54   \n",
       "99     West       Premium              Yes   53    Male  2024-08-26     45–54   \n",
       "\n",
       "    ticket_id ticket_date       issue_type resolved  \n",
       "0   TKT0008-1  2024-06-04            Other      Yes  \n",
       "1   TKT0036-1  2024-08-07          Billing      Yes  \n",
       "2   TKT0036-2  2024-08-23            Other      Yes  \n",
       "3   TKT0003-1  2024-10-03  Technical Error       No  \n",
       "4   TKT0030-1  2024-02-03            Other      Yes  \n",
       "..        ...         ...              ...      ...  \n",
       "95  TKT0010-1  2024-09-15    Account Setup      Yes  \n",
       "96  TKT0010-2  2024-09-23            Other      Yes  \n",
       "97  TKT0010-3  2024-09-19      Login Issue      Yes  \n",
       "98  TKT0029-1  2024-08-30      Login Issue      Yes  \n",
       "99  TKT0029-2  2024-08-28      Login Issue      Yes  \n",
       "\n",
       "[100 rows x 16 columns]"
      ]
     },
     "execution_count": 31,
     "metadata": {},
     "output_type": "execute_result"
    }
   ],
   "source": [
    "# Join support_tickets to customer_signups.csv on customer_id \n",
    "\n",
    "# converting object type date to datetime to make use of date functions\n",
    "df_support_tickets['ticket_date'] = pd.to_datetime(df_support_tickets['ticket_date'])\n",
    "\n",
    "# Merge both DataFrames on customer_id\n",
    "df_merged = pd.merge(df, df_support_tickets, on='customer_id', how='inner')\n",
    "df_merged.head(100)"
   ]
  },
  {
   "cell_type": "code",
   "execution_count": 32,
   "id": "59822352-e49d-4c79-aa68-8de5404f5adc",
   "metadata": {},
   "outputs": [
    {
     "name": "stdout",
     "output_type": "stream",
     "text": [
      "Number of customers who contacted support within 2 weeks: 47\n"
     ]
    }
   ],
   "source": [
    "# Count how many customers contacted support within 2 weeks of sign-up \n",
    "\n",
    "# Calculate difference in days between ticket and signup\n",
    "df_merged['days_since_signup'] = (df_merged['ticket_date'] - df_merged['signup_date']).dt.days\n",
    "\n",
    "# Filter where the support ticket came within 14 days\n",
    "within_2_weeks = df_merged[df_merged['days_since_signup'].between(0, 14)]\n",
    "\n",
    "# Count unique customers who contacted support within 2 weeks\n",
    "count = within_2_weeks['customer_id'].nunique()\n",
    "\n",
    "print(f\"Number of customers who contacted support within 2 weeks: {count}\")\n"
   ]
  },
  {
   "cell_type": "code",
   "execution_count": 33,
   "id": "69871ac6-01c5-45d7-9f9d-0c3fe4c55f31",
   "metadata": {},
   "outputs": [
    {
     "name": "stdout",
     "output_type": "stream",
     "text": [
      "   plan_selected   region  total_tickets  unique_customers\n",
      "3          Basic    South             14                 6\n",
      "12           Pro     East             14                 6\n",
      "1          Basic     East             11                 6\n",
      "13           Pro    North             11                 6\n",
      "10       Premium     West             11                 5\n",
      "11           Pro  Central             10                 5\n",
      "5          Basic     West             10                 4\n",
      "16           Pro     West              6                 4\n",
      "18   Unknownplan    North              6                 3\n",
      "6        Premium  Central              6                 2\n",
      "8        Premium    North              6                 2\n",
      "2          Basic    North              3                 2\n",
      "14           Pro    South              3                 2\n",
      "15           Pro  Unknown              3                 1\n",
      "9        Premium    South              2                 2\n",
      "0          Basic  Central              2                 1\n",
      "4          Basic  Unknown              2                 1\n",
      "17   Unknownplan     East              2                 1\n",
      "7        Premium     East              1                 1\n"
     ]
    }
   ],
   "source": [
    "# Summarise support activity by plan and region (Group by plan and region)\n",
    "\n",
    "support_summary = df_merged.groupby(['plan_selected', 'region']).agg(\n",
    "    total_tickets=('ticket_date', 'count'),\n",
    "    unique_customers=('customer_id', 'nunique')\n",
    ").reset_index()\n",
    "\n",
    "# Sort by total_tickets and then by unique_customers (both descending)\n",
    "support_summary = support_summary.sort_values(\n",
    "    by=['total_tickets', 'unique_customers'], ascending=[False, False]\n",
    ")\n",
    "\n",
    "print(support_summary)"
   ]
  },
  {
   "cell_type": "code",
   "execution_count": 41,
   "id": "7093950e-e2fd-4a2c-815e-78628dbd942a",
   "metadata": {},
   "outputs": [
    {
     "data": {
      "text/html": [
       "<div>\n",
       "<style scoped>\n",
       "    .dataframe tbody tr th:only-of-type {\n",
       "        vertical-align: middle;\n",
       "    }\n",
       "\n",
       "    .dataframe tbody tr th {\n",
       "        vertical-align: top;\n",
       "    }\n",
       "\n",
       "    .dataframe thead th {\n",
       "        text-align: right;\n",
       "    }\n",
       "</style>\n",
       "<table border=\"1\" class=\"dataframe\">\n",
       "  <thead>\n",
       "    <tr style=\"text-align: right;\">\n",
       "      <th></th>\n",
       "      <th>plan_selected</th>\n",
       "      <th>contact_rate</th>\n",
       "    </tr>\n",
       "  </thead>\n",
       "  <tbody>\n",
       "    <tr>\n",
       "      <th>0</th>\n",
       "      <td>Unknownplan</td>\n",
       "      <td>28.57</td>\n",
       "    </tr>\n",
       "    <tr>\n",
       "      <th>1</th>\n",
       "      <td>Pro</td>\n",
       "      <td>25.81</td>\n",
       "    </tr>\n",
       "    <tr>\n",
       "      <th>2</th>\n",
       "      <td>Basic</td>\n",
       "      <td>21.74</td>\n",
       "    </tr>\n",
       "    <tr>\n",
       "      <th>3</th>\n",
       "      <td>Premium</td>\n",
       "      <td>12.12</td>\n",
       "    </tr>\n",
       "  </tbody>\n",
       "</table>\n",
       "</div>"
      ],
      "text/plain": [
       "  plan_selected  contact_rate\n",
       "0   Unknownplan         28.57\n",
       "1           Pro         25.81\n",
       "2         Basic         21.74\n",
       "3       Premium         12.12"
      ]
     },
     "execution_count": 41,
     "metadata": {},
     "output_type": "execute_result"
    }
   ],
   "source": [
    "# (Optional) Which plan’s users are most likely to contact support? \n",
    "plan_wise_customer_summary = df.groupby(['plan_selected'])['customer_id'].nunique()\n",
    "\n",
    "plan_wise_support_summary = df_merged.groupby(['plan_selected'])['customer_id'].nunique()\n",
    "\n",
    "contact_summary = (plan_wise_support_summary*100/plan_wise_customer_summary).reset_index(name='contact_rate')\n",
    "contact_summary = contact_summary.sort_values(by = 'contact_rate',ascending = False ).reset_index(drop=True)\n",
    "\n",
    "\n",
    "contact_summary.round(2)"
   ]
  },
  {
   "cell_type": "markdown",
   "id": "b54eaf18-df81-4115-ae80-fa510c7b53fc",
   "metadata": {},
   "source": [
    "### Additional Analysis"
   ]
  },
  {
   "cell_type": "code",
   "execution_count": 35,
   "id": "3e95617c-8378-4932-a57c-31664dce4a06",
   "metadata": {},
   "outputs": [
    {
     "data": {
      "image/png": "[encoded data removed]",
      "text/plain": [
       "<Figure size 640x480 with 1 Axes>"
      ]
     },
     "metadata": {},
     "output_type": "display_data"
    }
   ],
   "source": [
    "# source counts\n",
    "sns.countplot(data=df,hue='source',legend=False,x='source',order=df['source'].value_counts().index, palette='viridis')\n",
    "plt.title('Total Signups by Source')\n",
    "plt.xlabel('source')\n",
    "plt.ylabel('Number of Signups')\n",
    "plt.show()"
   ]
  },
  {
   "cell_type": "code",
   "execution_count": 36,
   "id": "47f1d519-cf1f-49cd-a014-d6f796d90389",
   "metadata": {},
   "outputs": [
    {
     "data": {
      "text/html": [
       "<div>\n",
       "<style scoped>\n",
       "    .dataframe tbody tr th:only-of-type {\n",
       "        vertical-align: middle;\n",
       "    }\n",
       "\n",
       "    .dataframe tbody tr th {\n",
       "        vertical-align: top;\n",
       "    }\n",
       "\n",
       "    .dataframe thead th {\n",
       "        text-align: right;\n",
       "    }\n",
       "</style>\n",
       "<table border=\"1\" class=\"dataframe\">\n",
       "  <thead>\n",
       "    <tr style=\"text-align: right;\">\n",
       "      <th></th>\n",
       "      <th>age_group</th>\n",
       "      <th>source</th>\n",
       "      <th>max_source_counts</th>\n",
       "    </tr>\n",
       "  </thead>\n",
       "  <tbody>\n",
       "    <tr>\n",
       "      <th>0</th>\n",
       "      <td>25–34</td>\n",
       "      <td>Google</td>\n",
       "      <td>22</td>\n",
       "    </tr>\n",
       "    <tr>\n",
       "      <th>1</th>\n",
       "      <td>18–24</td>\n",
       "      <td>LinkedIn</td>\n",
       "      <td>18</td>\n",
       "    </tr>\n",
       "    <tr>\n",
       "      <th>2</th>\n",
       "      <td>18–24</td>\n",
       "      <td>YouTube</td>\n",
       "      <td>18</td>\n",
       "    </tr>\n",
       "    <tr>\n",
       "      <th>3</th>\n",
       "      <td>35–44</td>\n",
       "      <td>YouTube</td>\n",
       "      <td>15</td>\n",
       "    </tr>\n",
       "    <tr>\n",
       "      <th>4</th>\n",
       "      <td>45–54</td>\n",
       "      <td>Instagram</td>\n",
       "      <td>10</td>\n",
       "    </tr>\n",
       "    <tr>\n",
       "      <th>5</th>\n",
       "      <td>55–64</td>\n",
       "      <td>YouTube</td>\n",
       "      <td>6</td>\n",
       "    </tr>\n",
       "  </tbody>\n",
       "</table>\n",
       "</div>"
      ],
      "text/plain": [
       "  age_group     source  max_source_counts\n",
       "0     25–34     Google                 22\n",
       "1     18–24   LinkedIn                 18\n",
       "2     18–24    YouTube                 18\n",
       "3     35–44    YouTube                 15\n",
       "4     45–54  Instagram                 10\n",
       "5     55–64    YouTube                  6"
      ]
     },
     "execution_count": 36,
     "metadata": {},
     "output_type": "execute_result"
    }
   ],
   "source": [
    "# Most common source by age group\n",
    "source_counts_byage = (\n",
    "    df.groupby(['age_group','source'],observed=True).size().reset_index(name='source_counts')\n",
    ")\n",
    "\n",
    "max_sources = source_counts_byage[\n",
    "    source_counts_byage['source_counts'] == source_counts_byage.groupby('age_group',observed=True)['source_counts']\n",
    ".transform('max')\n",
    "]\n",
    "max_sources.columns = ['age_group', 'source' ,'max_source_counts']\n",
    "\n",
    "max_sources = max_sources.sort_values(by='max_source_counts',ascending=False).reset_index(drop=True)\n",
    "max_sources\n"
   ]
  },
  {
   "cell_type": "code",
   "execution_count": 37,
   "id": "98b8300c-f38b-49be-8ba1-71d6a476ec94",
   "metadata": {},
   "outputs": [
    {
     "data": {
      "image/png": "[encoded data removed]",
      "text/plain": [
       "<Figure size 1000x600 with 1 Axes>"
      ]
     },
     "metadata": {},
     "output_type": "display_data"
    }
   ],
   "source": [
    "# Sort data within each age_group by source_counts\n",
    "sorted_df = source_counts_byage.sort_values(['age_group', 'source_counts'], ascending=[True, False])\n",
    "\n",
    "# Plot\n",
    "plt.figure(figsize=(10, 6))\n",
    "sns.barplot(\n",
    "    data=sorted_df,\n",
    "    x='age_group',\n",
    "    y='source_counts',\n",
    "    hue='source'\n",
    " #   palette=sns.color_palette(\"BuGn\")\n",
    ")\n",
    "\n",
    "plt.title(\"Signups by Source within Each Age Group\", fontsize=14)\n",
    "plt.xlabel(\"Age Group\", fontsize=12)\n",
    "plt.ylabel(\"Number of Signups\", fontsize=12)\n",
    "plt.xticks(rotation=45)\n",
    "plt.tight_layout()\n",
    "plt.show()"
   ]
  },
  {
   "cell_type": "code",
   "execution_count": 38,
   "id": "4b5a2fdd-9789-4ed3-8d54-3d90c3281e42",
   "metadata": {
    "jupyter": {
     "source_hidden": true
    }
   },
   "outputs": [
    {
     "data": {
      "image/png": "[encoded data removed]",
      "text/plain": [
       "<Figure size 1200x600 with 1 Axes>"
      ]
     },
     "metadata": {},
     "output_type": "display_data"
    }
   ],
   "source": [
    "plt.figure(figsize=(12,6))\n",
    "sns.barplot(data=max_sources, x='age_group', y='max_source_counts', hue='source')\n",
    "plt.title('Top Marketing Sources by Age Group')\n",
    "plt.ylabel('Number of Signups')\n",
    "plt.xlabel('Age Group')\n",
    "plt.legend(title='Source')\n",
    "plt.xticks(rotation=45,ha='right')\n",
    "plt.tight_layout()\n",
    "plt.show()"
   ]
  },
  {
   "cell_type": "code",
   "execution_count": 39,
   "id": "f26101f3-07ed-4573-8388-732b57604c86",
   "metadata": {},
   "outputs": [
    {
     "data": {
      "text/html": [
       "<div>\n",
       "<style scoped>\n",
       "    .dataframe tbody tr th:only-of-type {\n",
       "        vertical-align: middle;\n",
       "    }\n",
       "\n",
       "    .dataframe tbody tr th {\n",
       "        vertical-align: top;\n",
       "    }\n",
       "\n",
       "    .dataframe thead th {\n",
       "        text-align: right;\n",
       "    }\n",
       "</style>\n",
       "<table border=\"1\" class=\"dataframe\">\n",
       "  <thead>\n",
       "    <tr style=\"text-align: right;\">\n",
       "      <th>marketing_opt_in</th>\n",
       "      <th>No</th>\n",
       "      <th>Unknown</th>\n",
       "      <th>Yes</th>\n",
       "    </tr>\n",
       "    <tr>\n",
       "      <th>age_group</th>\n",
       "      <th></th>\n",
       "      <th></th>\n",
       "      <th></th>\n",
       "    </tr>\n",
       "  </thead>\n",
       "  <tbody>\n",
       "    <tr>\n",
       "      <th>18–24</th>\n",
       "      <td>42</td>\n",
       "      <td>4</td>\n",
       "      <td>30</td>\n",
       "    </tr>\n",
       "    <tr>\n",
       "      <th>25–34</th>\n",
       "      <td>48</td>\n",
       "      <td>3</td>\n",
       "      <td>39</td>\n",
       "    </tr>\n",
       "    <tr>\n",
       "      <th>35–44</th>\n",
       "      <td>25</td>\n",
       "      <td>1</td>\n",
       "      <td>24</td>\n",
       "    </tr>\n",
       "    <tr>\n",
       "      <th>45–54</th>\n",
       "      <td>24</td>\n",
       "      <td>2</td>\n",
       "      <td>23</td>\n",
       "    </tr>\n",
       "    <tr>\n",
       "      <th>55–64</th>\n",
       "      <td>8</td>\n",
       "      <td>0</td>\n",
       "      <td>6</td>\n",
       "    </tr>\n",
       "  </tbody>\n",
       "</table>\n",
       "</div>"
      ],
      "text/plain": [
       "marketing_opt_in  No  Unknown  Yes\n",
       "age_group                         \n",
       "18–24             42        4   30\n",
       "25–34             48        3   39\n",
       "35–44             25        1   24\n",
       "45–54             24        2   23\n",
       "55–64              8        0    6"
      ]
     },
     "execution_count": 39,
     "metadata": {},
     "output_type": "execute_result"
    }
   ],
   "source": [
    "optin_by_age = df.groupby(['age_group', 'marketing_opt_in'],observed=True).size().unstack(fill_value=0)\n",
    "optin_by_age"
   ]
  }
 ],
 "metadata": {
  "kernelspec": {
   "display_name": "Python 3 (ipykernel)",
   "language": "python",
   "name": "python3"
  },
  "language_info": {
   "codemirror_mode": {
    "name": "ipython",
    "version": 3
   },
   "file_extension": ".py",
   "mimetype": "text/x-python",
   "name": "python",
   "nbconvert_exporter": "python",
   "pygments_lexer": "ipython3",
   "version": "3.12.7"
  }
 },
 "nbformat": 4,
 "nbformat_minor": 5
}
